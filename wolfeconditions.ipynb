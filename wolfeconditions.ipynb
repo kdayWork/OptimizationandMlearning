{
 "cells": [
  {
   "cell_type": "markdown",
   "id": "6175553e-9b55-485e-a6f2-221c91d352d5",
   "metadata": {},
   "source": [
    "This function is concave. I found this by taking the second derivative of the function 500-x(x-20)^3. This results in -12x^2 +300x-2400 =0. Since the leading coefficient is negative, this means that -f''(x) is positive, meaning that the function -f(x) is convex. Since -f(x) is convex, f(x) is concave."
   ]
  },
  {
   "cell_type": "code",
   "execution_count": 12,
   "id": "d81b9c8d-fb1e-4af3-abb3-bef9615928aa",
   "metadata": {},
   "outputs": [
    {
     "name": "stdout",
     "output_type": "stream",
     "text": [
      "iteration 10: step size = 0.0017838067156503712, x = 4.903133942562197\n",
      "iteration 20: step size = 0.0017838067156503712, x = 4.999346350241194\n",
      "The optimal value of f(x*) is -17374.999996528615\n",
      "The optimal value of x* is 4.99991216985646\n"
     ]
    }
   ],
   "source": [
    "using LinearAlgebra, Plots\n",
    "f(x) = -500 + x*(x-20)^3\n",
    "∇f(x) = 3 * x * (x - 20)^2 + (x - 20)^3\n",
    "\n",
    "function line_search(f,∇f,x,p; c1=0.001, c2=0.9, rho=0.75)\n",
    "    α = 1.0\n",
    "    while true\n",
    "        if (f(x + α * p) <= f(x) + (c1 * α * transpose(∇f(x)) * p)) && (transpose(∇f(x + α * p)) * p >= (c2 * transpose(∇f(x)) * p))\n",
    "        \n",
    "            break\n",
    "        end\n",
    "        α = rho*α\n",
    "    end\n",
    "    \n",
    "    return α\n",
    "    \n",
    "end\n",
    "\n",
    "\n",
    "\n",
    "\n",
    "function steepest_descent(f, ∇f, x; ϵ=1e-1, k=10)\n",
    "    i = 1\n",
    "    \n",
    "    while norm(∇f(x)) > ϵ\n",
    "        \n",
    "        p =  -∇f(x)\n",
    "        \n",
    "        α = line_search(f, ∇f, x, p)\n",
    "\n",
    "        x = x + α*p  # the new iterate\n",
    "        i % k == 0 && println(\"iteration \", i, \": step size = \", α, \", x = \", x)\n",
    "        i += 1\n",
    "    end\n",
    "    return x\n",
    "end\n",
    "\n",
    "\n",
    "x0 = 3\n",
    "answer = steepest_descent(f, ∇f, x0, k = 10)\n",
    "println(\"The optimal value of f(x*) is \", f(answer))\n",
    "println(\"The optimal value of x* is \", answer)"
   ]
  },
  {
   "cell_type": "markdown",
   "id": "92556fea-663e-4949-8497-ba033ef96b01",
   "metadata": {},
   "source": [
    "The line search function here uses the Wolfe Conditions of sufficient decrease and curvature condition to calculate step size. The function starts at a step size of one, and the while loop loops until both conditions (sufficient and curvature) are true. It then updates the proper step size. This function is called several times inside the steepest descent function, which iterates around until it can find the proper descent value. Once it does this, it can find the optimal minimun of the function. Since the function was the negative of itself, it actually found the optimul maximum. This solves the problem!"
   ]
  }
 ],
 "metadata": {
  "kernelspec": {
   "display_name": "Julia 1.9.3",
   "language": "julia",
   "name": "julia-1.9"
  },
  "language_info": {
   "file_extension": ".jl",
   "mimetype": "application/julia",
   "name": "julia",
   "version": "1.9.3"
  }
 },
 "nbformat": 4,
 "nbformat_minor": 5
}
